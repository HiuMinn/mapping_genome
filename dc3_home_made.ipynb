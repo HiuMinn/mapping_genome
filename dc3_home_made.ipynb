def dc3_home_made(S):

    # Étape 0, Création de T
    T = []
    if len(S) == 0:
        return []
    if isinstance(S[0], str):  # On vérifie que S contient des chaînes
        for c in S:
            T.append(ord(c))
    else:
        T = S.copy()  # Si c'est déjà une liste d'entiers, on la copie
    T += [0, 0, 0]  


    # Étape 1 :

    # Création de P0, P1, P2 et P1_2
    P0, P1, P2 = [], [], []
    for i in range(len(T) - 2):
        if i % 3 == 1:
            P1.append(i)
        elif i % 3 == 2:
            P2.append(i)
        elif i % 3 == 0 and i < len(T) - 3:
            P0.append(i)
    P1_2 = P1 + P2

    # Création de R1_2
    R1_2 = []
    for p in P1_2:
        triplet = (T[p], T[p + 1], T[p + 2])
        R1_2.append(triplet)

    # Tri de R1_2 avec les positions en utilisant le nouveau critère de tri
    R1_2_with_p = list(zip(R1_2, P1_2))

    def custom_sort(triplet_p):
        triplet, p = triplet_p
        return triplet + tuple(T[p + 3:p + 10])

    R1_2_sorted = sorted(R1_2_with_p, key=custom_sort)

    # Création de Index1_2 et Order1_2
    rank = 0
    prev_key = None
    p_to_rank = {}
    order_list = []
    for triplet_p in R1_2_sorted:
        key = custom_sort(triplet_p)
        if key != prev_key:
            rank += 1
        triplet, p = triplet_p
        p_to_rank[p] = rank
        prev_key = key
        order_list.append(rank)
    Index1_2 = [p for (triplet, p) in R1_2_sorted]
    Order1_2 = order_list

    # Création de T'
    T_prime = [p_to_rank[p] for p in P1_2]

    # Vérification des duplicatas dans Order1_2 pour décider de la récursivité
    if len(set(Order1_2)) < len(Order1_2):  # Il y a des duplicatas
        Index_prime0_1_2 = dc3_quasi_final(T_prime)
        Index1_2 = [P1_2[i] for i in Index_prime0_1_2]
        for idx, p in enumerate(Index1_2):
            p_to_rank[p] = idx + 1


    # Étape 2 : Calcul de R0
    R0 = []
    for p in P0:
        pair = (T[p], p_to_rank.get(p + 1, 0))
        R0.append(pair)

    # Tri de R0
    R0_with_p = list(zip(R0, P0))
    R0_sorted = sorted(R0_with_p)
    Index0 = [p for (pair, p) in R0_sorted]


    # Étape 3 : Fusion de Index0 et Index1_2 pour obtenir le suffix array final

    # Fonctions auxiliaires pour la comparaison
    def leq(a1, a2, b1, b2):
        return a1 < b1 or (a1 == b1 and a2 <= b2)

    def leq3(a1, a2, a3, b1, b2, b3):
        return a1 < b1 or (a1 == b1 and leq(a2, a3, b2, b3))

    SA = []
    i = 0
    j = 0
    while i < len(Index0) and j < len(Index1_2):
        a = Index0[i]
        b = Index1_2[j]
        if b % 3 == 1:
            if leq(T[a], p_to_rank.get(a + 1, 0), T[b], p_to_rank.get(b + 1, 0)):
                SA.append(a)
                i += 1
            else:
                SA.append(b)
                j += 1
        else:
            if leq3(T[a], T[a + 1], p_to_rank.get(a + 2, 0), T[b], T[b + 1], p_to_rank.get(b + 2, 0)):
                SA.append(a)
                i += 1
            else:
                SA.append(b)
                j += 1

    # Ajout des indices restants
    while i < len(Index0):
        SA.append(Index0[i])
        i += 1
    while j < len(Index1_2):
        SA.append(Index1_2[j])
        j += 1

    # Suppression des indices des sentinelles
    SA = [idx for idx in SA if idx < len(T) - 3]
    stop = time.time()
    return SA

test_dc3(dc3_quasi_final)