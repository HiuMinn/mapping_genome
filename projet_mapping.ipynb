{
 "cells": [
  {
   "cell_type": "markdown",
   "metadata": {
    "id": "3qYtQX82iL-U"
   },
   "source": [
    "les imports :"
   ]
  },
  {
   "cell_type": "code",
   "execution_count": null,
   "metadata": {
    "colab": {
     "base_uri": "https://localhost:8080/"
    },
    "id": "dNyHaJ8vpPQA",
    "outputId": "0231803f-f7cb-49aa-ba81-abadb1a35020"
   },
   "outputs": [
    {
     "name": "stdout",
     "output_type": "stream",
     "text": [
      "Collecting biopython\n",
      "  Downloading biopython-1.84-cp310-cp310-manylinux_2_17_x86_64.manylinux2014_x86_64.whl.metadata (12 kB)\n",
      "Requirement already satisfied: numpy in /usr/local/lib/python3.10/dist-packages (from biopython) (1.26.4)\n",
      "Downloading biopython-1.84-cp310-cp310-manylinux_2_17_x86_64.manylinux2014_x86_64.whl (3.2 MB)\n",
      "\u001B[2K   \u001B[90m━━━━━━━━━━━━━━━━━━━━━━━━━━━━━━━━━━━━━━━━\u001B[0m \u001B[32m3.2/3.2 MB\u001B[0m \u001B[31m20.7 MB/s\u001B[0m eta \u001B[36m0:00:00\u001B[0m\n",
      "\u001B[?25hInstalling collected packages: biopython\n",
      "Successfully installed biopython-1.84\n"
     ]
    }
   ],
   "source": [
    "!pip install biopython"
   ]
  },
  {
   "cell_type": "code",
   "execution_count": 4,
   "metadata": {
    "tags": []
   },
   "outputs": [
    {
     "name": "stdout",
     "output_type": "stream",
     "text": [
      "Collecting pysam\n",
      "  Obtaining dependency information for pysam from https://files.pythonhosted.org/packages/3e/36/0d478e81f4687e87be1b1cdb3451d41c088669687f28c03ac60ffefb2f71/pysam-0.22.1-cp311-cp311-manylinux_2_28_x86_64.whl.metadata\n",
      "  Downloading pysam-0.22.1-cp311-cp311-manylinux_2_28_x86_64.whl.metadata (1.5 kB)\n",
      "Downloading pysam-0.22.1-cp311-cp311-manylinux_2_28_x86_64.whl (25.1 MB)\n",
      "\u001B[2K   \u001B[38;2;114;156;31m━━━━━━━━━━━━━━━━━━━━━━━━━━━━━━━━━━━━━━━━\u001B[0m \u001B[32m25.1/25.1 MB\u001B[0m \u001B[31m8.1 MB/s\u001B[0m eta \u001B[36m0:00:00\u001B[0mm eta \u001B[36m0:00:01\u001B[0m[36m0:00:01\u001B[0m\n",
      "\u001B[?25hInstalling collected packages: pysam\n",
      "Successfully installed pysam-0.22.1\n"
     ]
    }
   ],
   "source": [
    "!pip install pysam"
   ]
  },
  {
   "cell_type": "code",
   "execution_count": 6,
   "metadata": {
    "colab": {
     "base_uri": "https://localhost:8080/",
     "height": 349
    },
    "id": "gaVCjBTYesy7",
    "outputId": "01a0298a-9eb3-4459-961f-667f39dff0f8"
   },
   "outputs": [],
   "source": [
    "import numpy as np\n",
    "from Bio import SeqIO\n",
    "from collections import Counter\n",
    "#import pysam"
   ]
  },
  {
   "cell_type": "code",
   "execution_count": 7,
   "metadata": {
    "id": "5bEfsFCdy9DE"
   },
   "outputs": [],
   "source": [
    "def read_fasta_file(fasta_path):\n",
    "    fasta_seq = []\n",
    "    reads = SeqIO.parse(fasta_path, \"fasta\")\n",
    "    for read in reads:\n",
    "        read_seq = str(read.seq)\n",
    "        fasta_seq.append(read_seq)\n",
    "    return fasta_seq"
   ]
  },
  {
   "cell_type": "code",
   "execution_count": 8,
   "metadata": {
    "colab": {
     "base_uri": "https://localhost:8080/",
     "height": 158
    },
    "id": "nQZisClqrNdb",
    "outputId": "15cc78af-673b-4495-b9d2-03e40eaf652f"
   },
   "outputs": [],
   "source": [
    "fasta_path = \"GCF_000002765.5_GCA_000002765_genomic.fna\"\n",
    "genome = read_fasta_file(fasta_path)[0]"
   ]
  },
  {
   "cell_type": "code",
   "execution_count": 9,
   "metadata": {
    "tags": []
   },
   "outputs": [
    {
     "data": {
      "text/plain": [
       "640851"
      ]
     },
     "execution_count": 9,
     "metadata": {},
     "output_type": "execute_result"
    }
   ],
   "source": [
    "len(genome)"
   ]
  },
  {
   "cell_type": "code",
   "execution_count": 10,
   "metadata": {
    "id": "ZL2S4c96ALZu"
   },
   "outputs": [],
   "source": [
    "reads = SeqIO.parse(\"single_Pfal_dat.fq\", \"fastq\")"
   ]
  },
  {
   "cell_type": "code",
   "execution_count": 11,
   "metadata": {
    "id": "fBSg73zoNQ1x"
   },
   "outputs": [],
   "source": [
    "Alphabet=['A','C','T','G']"
   ]
  },
  {
   "cell_type": "code",
   "execution_count": 12,
   "metadata": {
    "id": "w9Q33KIt6_xI"
   },
   "outputs": [],
   "source": [
    "#### J'ai fait les imports sur mon pc car sinon ca marche pas (Lilian)"
   ]
  },
  {
   "cell_type": "code",
   "execution_count": 13,
   "metadata": {
    "id": "FGCL1OSjAMHz"
   },
   "outputs": [],
   "source": [
    "#########Constitution des k-mer : il faut traiter les reads les uns après les autres en les écrasant successivement pour ne pas faire crash les pc en surchargeant la mémoire\n",
    "######### En effet les reads sont indépendants\n",
    "######## Notons que la taile de k-mer optimale est à déterminé (taille 1 : ça map partout et taille 100 (ie taille des reads : une toute petite erreurs empèche le mapping))\n",
    "\n",
    "######### Un seuil est à déterminer sur la proportion de k-mer successif pour considérer le mapping du reads"
   ]
  },
  {
   "cell_type": "code",
   "execution_count": 14,
   "metadata": {
    "id": "iVwfuXjctKLj"
   },
   "outputs": [
    {
     "data": {
      "text/plain": [
       "100"
      ]
     },
     "execution_count": 14,
     "metadata": {},
     "output_type": "execute_result"
    }
   ],
   "source": [
    "100"
   ]
  },
  {
   "cell_type": "code",
   "execution_count": 15,
   "metadata": {
    "id": "99mq38_dK6Xu"
   },
   "outputs": [],
   "source": [
    "def index_kmers(text,k):\n",
    "    \"\"\"\n",
    "    construire dictionaire des indexes de kmers\n",
    "    :param text: genome complet\n",
    "    :param k: longeur de kmers\n",
    "    :return: dictionaire des sous-textes et leurs indices de kmers\n",
    "    #complexite = O(n)\n",
    "    \"\"\"\n",
    "    index_dict = {}\n",
    "    for i in range(len(text)-k+1):\n",
    "        sous_texte = text[i:i+k]\n",
    "        if sous_texte in index_dict:\n",
    "            index_dict[sous_texte].append(i)\n",
    "        else:\n",
    "            index_dict[sous_texte] = [i]\n",
    "    return index_dict"
   ]
  },
  {
   "cell_type": "code",
   "execution_count": 16,
   "metadata": {
    "id": "Tj7AgTqjK8es"
   },
   "outputs": [
    {
     "name": "stdout",
     "output_type": "stream",
     "text": [
      "kmers: {'abc': [0, 9], 'bcd': [1], 'cde': [2], 'def': [3], 'efg': [4], 'fgh': [5], 'ghi': [6], 'hia': [7], 'iab': [8], 'bcn': [10]}\n"
     ]
    }
   ],
   "source": [
    "pattern = \"abcdefghiabcn\"\n",
    "kmers = index_kmers(pattern,3)\n",
    "print(f\"kmers: {kmers}\")"
   ]
  },
  {
   "cell_type": "code",
   "execution_count": 17,
   "metadata": {
    "id": "i1JPED1Jn9T6"
   },
   "outputs": [],
   "source": [
    "def suffix_list(T):\n",
    "    \"\"\"\n",
    "    Compute the suffix list\n",
    "\n",
    "    Args:\n",
    "        T (str): string\n",
    "\n",
    "    Return:\n",
    "        list of strings: suffix list\n",
    "    \"\"\"\n",
    "    suffix_list = [T[i:] for i in range(len(T))]\n",
    "    sorted(suffix_list,reverse=True)\n",
    "    return suffix_list\n",
    "\n",
    "def suffix_table(T):\n",
    "    \"\"\"\n",
    "    Compute the suffix tableolik\n",
    "\n",
    "    Args:\n",
    "        T (str): string\n",
    "\n",
    "    Return:\n",
    "        list of tuples (suffix,location): suffix table\n",
    "    \"\"\"\n",
    "    suffix_list = [T[i:] for i in range(len(T))]\n",
    "    suffix_table = sorted((e,i) for i,e in enumerate(suffix_list))\n",
    "    suffix_array = []\n",
    "    for suffix, index in suffix_table:\n",
    "        suffix_array.append(index)\n",
    "    return suffix_table, suffix_array\n",
    "\n",
    "def BWT_suffix_table(T,end_of_string=\"$\"):\n",
    "    \"\"\"\n",
    "    Compute the BWT from the suffix table\n",
    "\n",
    "    Args:\n",
    "        T (str): string\n",
    "        end_of_string (char): end of string character to append\n",
    "\n",
    "    Return:\n",
    "        bwt (str): BWT\n",
    "    \"\"\"\n",
    "    T += end_of_string\n",
    "    ST,SA= suffix_table(T)\n",
    "    bwt = \"\"\n",
    "    for s,i in ST:\n",
    "        bwt += T[i-1]\n",
    "    return(bwt)"
   ]
  },
  {
   "cell_type": "code",
   "execution_count": 18,
   "metadata": {
    "id": "NnpWofwXn7nH"
   },
   "outputs": [],
   "source": [
    "def occurrence_indexer(S):\n",
    "    \"\"\"\n",
    "    compute the occurrence index of a string\n",
    "    :param S (str): \n",
    "    :return: list of occurrence indexes\n",
    "    \"\"\"\n",
    "    K = []\n",
    "    last_index = {}\n",
    "    for s in S:\n",
    "        if s not in last_index:\n",
    "            last_index[s] = 0\n",
    "        K.append(last_index[s])\n",
    "        last_index[s] += 1\n",
    "    return(K)\n",
    "\n",
    "def last2first(counts,k,X):\n",
    "    \"\"\"\n",
    "    find the index of the characters corrsponding to the occurrence index in the first column\n",
    "    :param counts: \n",
    "    :param k: \n",
    "    :param X: \n",
    "    :return: \n",
    "    \"\"\"\n",
    "    return k + sum([counts[char] for char in counts if char < X])\n",
    "\n",
    "def get_first_occurrence(L,X):\n",
    "    \"\"\"\n",
    "    find the first occurence of a character in the bwt\n",
    "    :param L: \n",
    "    :param X: \n",
    "    :return: \n",
    "    \"\"\"\n",
    "    for i,l in enumerate(L):\n",
    "        if l == X:\n",
    "            return(i)\n",
    "\n",
    "def pattern_matching_BWT(SA, L ,pattern):\n",
    "    \"\"\"\n",
    "    Search a pattern in a String using the BWT\n",
    "\n",
    "    Args:\n",
    "        SA (str): suffix array of the string\n",
    "        L (str): BWT calculated by suffix array\n",
    "        pattern (str): pattern\n",
    "\n",
    "    Return:\n",
    "        bool: true if the pattern is in the string\n",
    "    \"\"\"\n",
    "    K = occurrence_indexer(L)\n",
    "    counts = Counter(L)\n",
    "    e = 0\n",
    "    f = len(L)\n",
    "    i = len(pattern) - 1\n",
    "    while e < f and i >= 0:\n",
    "        X = pattern[i]\n",
    "        first_occurence_in_L_ef = get_first_occurrence(L[e:f],X)\n",
    "        if first_occurence_in_L_ef is None:\n",
    "            return False\n",
    "        else:\n",
    "            r = first_occurence_in_L_ef+e\n",
    "        #print(first_occurence_in_L_ef,L[e:f],r,X,L[r])\n",
    "\n",
    "        last_occurence_in_L_ef = get_first_occurrence(L[e:f][::-1],X) #find the first in reversed direction (the last)\n",
    "        if last_occurence_in_L_ef is None:\n",
    "            return False\n",
    "        else:\n",
    "            s = f-last_occurence_in_L_ef-1\n",
    "        #print(last_occurence_in_L_ef,L[e:f],s,X,L[s])\n",
    "\n",
    "        e = last2first(counts,K[r],X)\n",
    "        f = last2first(counts,K[s],X)+1\n",
    "        i -= 1\n",
    "        # print(r,s,e,f)\n",
    "    offsets =SA[e-1:f-1]\n",
    "    offsets.sort()\n",
    "    return offsets"
   ]
  },
  {
   "cell_type": "code",
   "execution_count": 19,
   "metadata": {
    "id": "PCNT2U-lzgIu"
   },
   "outputs": [
    {
     "data": {
      "text/plain": [
       "False"
      ]
     },
     "execution_count": 19,
     "metadata": {},
     "output_type": "execute_result"
    }
   ],
   "source": [
    "pattern_matching_BWT('ACATACAGATG','CTA')"
   ]
  },
  {
   "cell_type": "code",
   "execution_count": 20,
   "metadata": {
    "id": "668ffhNWoGRo"
   },
   "outputs": [],
   "source": [
    "######Pour faire le bonnus ie avec les erreurs : on peut faire une boucle while en comptant les erreurs et en sortant dès qu'on atteint le seuil"
   ]
  },
  {
   "cell_type": "code",
   "execution_count": 21,
   "metadata": {
    "id": "52F9rK6f_Brp"
   },
   "outputs": [],
   "source": [
    "def dc3(S,U):\n",
    "\n",
    "  # Step 0\n",
    "\n",
    "  #Creation T\n",
    "  len_A = 4\n",
    "  len_S = len(S)\n",
    "  T = []\n",
    "  P_0 = []\n",
    "  P_1 = []\n",
    "  P_2 = []\n",
    "  P_12 = []\n",
    "  for i in range (0, len_S):\n",
    "    T.append(ord(S[i]))\n",
    "  \"\"\"print(\"T est\", T)\"\"\"\n",
    "\n",
    "\n",
    "\n",
    "  # Step 1 suite\n",
    "\n",
    "  #Creation P_x\n",
    "  for i in range (0, len_S):\n",
    "    if i%3 == 0:\n",
    "      P_0.append(i)\n",
    "    elif i%3 == 1:\n",
    "      P_1.append(i)\n",
    "    elif i%3 == 2:\n",
    "      P_2.append(i)\n",
    "  T.append(0)\n",
    "  T.append(0)\n",
    "  T.append(0)\n",
    "  if len_S%3 == 0:\n",
    "    P_0.append(len_S)\n",
    "  elif len_S%3 == 1:\n",
    "    P_1.append(len_S)\n",
    "  elif len_S%3 == 2:\n",
    "    P_2.append(len_S)\n",
    "  P_12 = P_1 + P_2\n",
    "  \"\"\"print(\"P_x est :\", P_0, P_1, P_2, P_12)\n",
    "  print(\"T est\", T)\"\"\"\n",
    "\n",
    "  #Creation R_12\n",
    "  R_12 = []\n",
    "  for i in range (0, len(P_12)):\n",
    "    R_12.append((P_12[i], (T[P_12[i]], T[P_12[i]+1], T[P_12[i]+2])))\n",
    "  \"\"\"print(\"R_12 est: \", R_12)\"\"\"\n",
    "\n",
    "  #Creation R_12_sorted + Index\n",
    "  Inter = sorted(R_12, key=lambda x: x[1]) # note pour plustard : Implementer le Radix_sort, et pas utiliser la fonction sort (dif)\n",
    "  R_12_sorted = [i[1] for i in Inter]\n",
    "  Index = [i[0] for i in Inter]\n",
    "  \"\"\"print(\"R_12_sorted est: \", R_12_sorted)\n",
    "  print(\"Index est: \", Index)\"\"\"\n",
    "\n",
    "  #Creation Order\n",
    "  Order = []\n",
    "  current_rank = 1\n",
    "  for i in range(len(R_12_sorted)):\n",
    "      if i == 0:\n",
    "          Order.append(current_rank)\n",
    "      else:\n",
    "          if R_12_sorted[i] == R_12_sorted[i - 1]:\n",
    "              Order.append(current_rank)\n",
    "          else:\n",
    "              current_rank += 1\n",
    "              Order.append(current_rank)\n",
    "\n",
    "  \"\"\"print(\"Order est: \", Order)\"\"\"\n",
    "\n",
    "\n",
    "  #Calcule de T'\n",
    "  def calculate_T_prime(R12, R12_sorted):\n",
    "    T_prime = []\n",
    "    rank_map = {}\n",
    "    current_rank = 1\n",
    "    for triplet in R12_sorted:\n",
    "        if triplet not in rank_map:\n",
    "            rank_map[triplet] = current_rank\n",
    "            current_rank += 1\n",
    "    for _, triplet in R12:\n",
    "        T_prime.append(rank_map[triplet])\n",
    "    return T_prime\n",
    "  T_prime = calculate_T_prime(R_12, R_12_sorted)\n",
    "  \"\"\"print(\"ceci est R12\", R_12)\n",
    "  print(\"ceci est R12_sort\", R_12_sorted)\n",
    "  print(\"ceci est T'\",T_prime)\"\"\"\n",
    "\n",
    "\n",
    "\n",
    "dc3('abcabcacab',\"coucou\")\n"
   ]
  },
  {
   "cell_type": "code",
   "execution_count": 22,
   "metadata": {
    "colab": {
     "base_uri": "https://localhost:8080/"
    },
    "id": "TNNIiPxoFFAB",
    "outputId": "64d319f8-65e5-4778-d5cb-94773086d964",
    "tags": []
   },
   "outputs": [
    {
     "name": "stdout",
     "output_type": "stream",
     "text": [
      "Index1_2 = [10, 8, 1, 4, 2, 7, 5]\n",
      "Order1_2 = [1, 2, 3, 3, 4, 4, 5]\n",
      "T' = [3, 3, 4, 1, 4, 5, 2]\n",
      "Des duplicatas ont été trouvés, récursion nécessaire.\n",
      "R0 = [(97, 3), (97, 3), (97, 4), (98, 1)]\n",
      "R0 trié = [((97, 3), 0), ((97, 3), 3), ((97, 4), 6), ((98, 1), 9)]\n",
      "Index0 = [0, 3, 6, 9]\n",
      "('Suffix Array final =', [8, 0, 3, 6, 9, 1, 4, 2, 7, 5])\n",
      "Index1_2 = [22, 10, 7, 11, 14, 5, 16, 1, 8, 19, 4, 17, 20, 2, 13]\n",
      "Order1_2 = [1, 2, 3, 3, 4, 5, 5, 6, 6, 6, 7, 8, 9, 10, 10]\n",
      "T' = [6, 7, 3, 2, 10, 5, 6, 1, 10, 5, 6, 3, 4, 8, 9]\n",
      "Des duplicatas ont été trouvés, récursion nécessaire.\n",
      "R0 = [(97, 6), (97, 7), (100, 3), (114, 2), (98, 10), (99, 5), (97, 6), (97, 1)]\n",
      "R0 trié = [((97, 1), 21), ((97, 6), 0), ((97, 6), 18), ((97, 7), 3), ((98, 10), 12), ((99, 5), 15), ((100, 3), 6), ((114, 2), 9)]\n",
      "Index0 = [21, 0, 18, 3, 12, 15, 6, 9]\n",
      "('Suffix Array final =', [21, 10, 7, 11, 0, 18, 14, 3, 5, 16, 12, 1, 8, 19, 15, 4, 17, 6, 20, 9, 2, 13])\n",
      "Index1_2 = [5, 1, 4, 2]\n",
      "Order1_2 = [1, 2, 3, 4]\n",
      "T' = [2, 3, 4, 1]\n",
      "Pas de duplicatas, pas de récursion nécessaire.\n",
      "R0 = [(98, 2), (97, 3), (0, 0)]\n",
      "R0 trié = [((0, 0), 6), ((97, 3), 3), ((98, 2), 0)]\n",
      "Index0 = [6, 3, 0]\n",
      "('Suffix Array final =', [5, 3, 1, 0, 4, 2])\n"
     ]
    }
   ],
   "source": [
    "def dc3_bis(S):\n",
    "\n",
    "  # Étape 0, Creation de T\n",
    "  T = []\n",
    "  for c in S:\n",
    "      T.append(ord(c))\n",
    "  T += [0, 0, 0]\n",
    "  \"\"\"\n",
    "  print(\"T =\", T)\n",
    "  \"\"\"\n",
    "\n",
    "  # Étape 1 :\n",
    "\n",
    "  # Creation de P0, P1, P2 et P1_2\n",
    "  P0 = []\n",
    "  P1 = []\n",
    "  P2 = []\n",
    "  for i in range(len(T)):\n",
    "      if i % 3 == 1 and i + 2 < len(T):\n",
    "          P1.append(i)\n",
    "      elif i % 3 == 2 and i + 2 < len(T):\n",
    "          P2.append(i)\n",
    "      elif i % 3 == 0 and i + 2 < len(T):\n",
    "          P0.append(i)\n",
    "  P1_2 = P1 + P2\n",
    "  \"\"\"\n",
    "  print(\"P0 =\", P0)\n",
    "  print(\"P1 =\", P1)\n",
    "  print(\"P2 =\", P2)\n",
    "  print(\"P1_2 =\", P1_2)\n",
    "  \"\"\"\n",
    "\n",
    "  # Creation de R1_2\n",
    "  R1_2 = []\n",
    "  for p in P1_2:\n",
    "      triplet = (T[p], T[p+1], T[p+2])\n",
    "      R1_2.append(triplet)\n",
    "  \"\"\"\n",
    "  print(\"R1_2 =\", R1_2)\n",
    "  \"\"\"\n",
    "\n",
    "  # Creation de R1_2_sorted en utilisant un tri radix\n",
    "  R1_2_with_p = list(zip(R1_2, P1_2))\n",
    "  \"\"\"\n",
    "  print(\"R1_2_with_p =\", R1_2_with_p)\n",
    "  \"\"\"\n",
    "  R1_2_sorted = sorted(R1_2_with_p)\n",
    "  \"\"\"\n",
    "  print(\"R1_2_sorted =\", R1_2_sorted)\n",
    "  \"\"\"\n",
    "\n",
    "  # Creation de Index1_2 et Order1_2\n",
    "  rank = 0\n",
    "  prev_triplet = None\n",
    "  order_list = []\n",
    "  p_to_rank = {}\n",
    "  for triplet, p in R1_2_sorted:\n",
    "      if triplet != prev_triplet:\n",
    "          rank += 1\n",
    "      p_to_rank[p] = rank\n",
    "      prev_triplet = triplet\n",
    "      order_list.append(rank)\n",
    "  Index1_2 = [p for (triplet, p) in R1_2_sorted]\n",
    "  Order1_2 = order_list\n",
    "  print(\"Index1_2 =\", Index1_2)\n",
    "  print(\"Order1_2 =\", Order1_2)\n",
    "\n",
    "  # Création de T'\n",
    "  T_prime = []\n",
    "  for p in P1_2:\n",
    "      T_prime.append(p_to_rank[p])\n",
    "  print(\"T' =\", T_prime)\n",
    "\n",
    "  # Vérification des duplicatas dans Order1_2 pour décider de la récursivité\n",
    "  if len(set(Order1_2)) < len(Order1_2):\n",
    "      print(\"Des duplicatas ont été trouvés, récursion nécessaire.\")\n",
    "  else:\n",
    "      print(\"Pas de duplicatas, pas de récursion nécessaire.\")\n",
    "\n",
    "  # Étape 2 : Calcul de R0\n",
    "  R0 = []\n",
    "  for p in P0:\n",
    "      pair = (T[p], p_to_rank.get(p+1, 0))\n",
    "      R0.append(pair)\n",
    "  print(\"R0 =\", R0)\n",
    "\n",
    "  # Tri de R0\n",
    "  R0_with_p = list(zip(R0, P0))\n",
    "  R0_sorted = sorted(R0_with_p)\n",
    "  print(\"R0 trié =\", R0_sorted)\n",
    "  Index0 = [p for (pair, p) in R0_sorted]\n",
    "  print(\"Index0 =\", Index0)\n",
    "\n",
    "  # Étape 3 : Fusion de Index0 et Index1_2 pour obtenir le suffix array final\n",
    "  SA = []\n",
    "  i = j = 0\n",
    "  while i < len(Index0) and j < len(Index1_2):\n",
    "      idx0 = Index0[i]\n",
    "      idx12 = Index1_2[j]\n",
    "      if T[idx0:] < T[idx12:]:\n",
    "          SA.append(idx0)\n",
    "          i += 1\n",
    "      else:\n",
    "          SA.append(idx12)\n",
    "          j += 1\n",
    "  # Ajout des indices restants\n",
    "  while i < len(Index0):\n",
    "      SA.append(Index0[i])\n",
    "      i += 1\n",
    "  while j < len(Index1_2):\n",
    "      SA.append(Index1_2[j])\n",
    "      j += 1\n",
    "  # Suppression des indices des sentinelles\n",
    "  SA = [idx for idx in SA if idx < len(T) - 3]\n",
    "  return (\"Suffix Array final =\", SA)\n",
    "\n",
    "S = \"abcabcacab\"\n",
    "print(dc3_bis(S))\n",
    "print(dc3_bis(\"abracadabraabracadabra\"))\n",
    "print(dc3_bis(\"banana\"))"
   ]
  },
  {
   "cell_type": "code",
   "execution_count": 23,
   "metadata": {
    "colab": {
     "base_uri": "https://localhost:8080/"
    },
    "id": "JFi7LTe9iIVP",
    "outputId": "28ee0b1c-8350-463b-f772-9bd61b0051ed",
    "tags": []
   },
   "outputs": [
    {
     "name": "stdout",
     "output_type": "stream",
     "text": [
      "S aaaaaaaaaaaaaaaaaaa\n",
      "S [3, 3, 3, 3, 3, 3, 1, 3, 3, 3, 3, 3, 2]\n",
      "S [6, 4, 6, 5, 1, 6, 2, 6, 3]\n",
      "6 4 [4]\n",
      "6 8 [4, 6]\n",
      "3 8 [4, 6, 8]\n",
      "3 1 [4, 6, 8, 1]\n",
      "3 5 [4, 6, 8, 1, 3]\n",
      "0 5 [4, 6, 8, 1, 3, 5]\n",
      "0 7 [4, 6, 8, 1, 3, 5, 7]\n",
      "0 2 [4, 6, 8, 1, 3, 5, 7, 0]\n",
      "1_2 [4, 6, 8, 1, 3, 5, 7, 0, 2]\n",
      "6 13 [13]\n",
      "6 5 [13, 6]\n",
      "12 5 [13, 6, 12]\n",
      "3 5 [13, 6, 12, 5]\n",
      "3 11 [13, 6, 12, 5, 11]\n",
      "3 4 [13, 6, 12, 5, 11, 4]\n",
      "3 10 [13, 6, 12, 5, 11, 4, 10]\n",
      "3 2 [13, 6, 12, 5, 11, 4, 10, 3]\n",
      "9 2 [13, 6, 12, 5, 11, 4, 10, 3, 9]\n",
      "0 2 [13, 6, 12, 5, 11, 4, 10, 3, 9, 2]\n",
      "0 8 [13, 6, 12, 5, 11, 4, 10, 3, 9, 2, 8]\n",
      "0 1 [13, 6, 12, 5, 11, 4, 10, 3, 9, 2, 8, 0]\n",
      "1_2 [13, 6, 12, 5, 11, 4, 10, 3, 9, 2, 8, 0, 1]\n",
      "1_2 [13, 6, 12, 5, 11, 4, 10, 3, 9, 2, 8, 0, 1, 7]\n",
      "18 19 [19]\n",
      "18 17 [19, 18]\n",
      "0 17 [19, 18, 17]\n",
      "0 16 [19, 18, 17, 16]\n",
      "0 14 [19, 18, 17, 16, 0]\n",
      "3 14 [19, 18, 17, 16, 0, 3]\n",
      "6 14 [19, 18, 17, 16, 0, 3, 6]\n",
      "9 14 [19, 18, 17, 16, 0, 3, 6, 9]\n",
      "12 14 [19, 18, 17, 16, 0, 3, 6, 9, 12]\n",
      "15 14 [19, 18, 17, 16, 0, 3, 6, 9, 12, 15]\n",
      "1_2 [19, 18, 17, 16, 0, 3, 6, 9, 12, 15, 14]\n",
      "1_2 [19, 18, 17, 16, 0, 3, 6, 9, 12, 15, 14, 13]\n",
      "1_2 [19, 18, 17, 16, 0, 3, 6, 9, 12, 15, 14, 13, 11]\n",
      "1_2 [19, 18, 17, 16, 0, 3, 6, 9, 12, 15, 14, 13, 11, 10]\n",
      "1_2 [19, 18, 17, 16, 0, 3, 6, 9, 12, 15, 14, 13, 11, 10, 8]\n",
      "1_2 [19, 18, 17, 16, 0, 3, 6, 9, 12, 15, 14, 13, 11, 10, 8, 7]\n",
      "1_2 [19, 18, 17, 16, 0, 3, 6, 9, 12, 15, 14, 13, 11, 10, 8, 7, 5]\n",
      "1_2 [19, 18, 17, 16, 0, 3, 6, 9, 12, 15, 14, 13, 11, 10, 8, 7, 5, 1]\n",
      "1_2 [19, 18, 17, 16, 0, 3, 6, 9, 12, 15, 14, 13, 11, 10, 8, 7, 5, 1, 4]\n",
      "1_2 [19, 18, 17, 16, 0, 3, 6, 9, 12, 15, 14, 13, 11, 10, 8, 7, 5, 1, 4, 2]\n",
      "[18, 17, 16, 0, 3, 6, 9, 12, 15, 14, 13, 11, 10, 8, 7, 5, 1, 4, 2] 19\n"
     ]
    },
    {
     "ename": "NameError",
     "evalue": "name 'naive_suffix_array' is not defined",
     "output_type": "error",
     "traceback": [
      "\u001B[0;31m---------------------------------------------------------------------------\u001B[0m",
      "\u001B[0;31mNameError\u001B[0m                                 Traceback (most recent call last)",
      "Cell \u001B[0;32mIn[23], line 132\u001B[0m\n\u001B[1;32m    130\u001B[0m SA\u001B[38;5;241m=\u001B[39mdc3_quasi_final(test)\n\u001B[1;32m    131\u001B[0m \u001B[38;5;28mprint\u001B[39m(SA,\u001B[38;5;28mlen\u001B[39m(SA))\n\u001B[0;32m--> 132\u001B[0m naive_suffix_array(test)\n",
      "\u001B[0;31mNameError\u001B[0m: name 'naive_suffix_array' is not defined"
     ]
    }
   ],
   "source": [
    "def dc3_quasi_final(S):\n",
    "    print('S',S)\n",
    "    # Étape 0, Creation de T\n",
    "    T = []\n",
    "    if len(S) == 0:\n",
    "        return []\n",
    "    if isinstance(S[0], str):  # On vérifie que S contient des chaînes\n",
    "        for c in S:\n",
    "            T.append(ord(c))\n",
    "    else:\n",
    "        T = S.copy()  # Si c'est déjà une liste d'entiers, on la copie\n",
    "    T += [0, 0, 0]  # Ajouter les sentinelles\n",
    "    \n",
    "    # Étape 1 :\n",
    "\n",
    "    # Creation de P0, P1, P2 et P1_2\n",
    "    P0, P1, P2 = [], [], []\n",
    "    for i in range(len(T)-2):\n",
    "        if i % 3 == 1:\n",
    "            P1.append(i)\n",
    "        elif i % 3 == 2:\n",
    "            P2.append(i)\n",
    "        elif i % 3 == 0 and i<len(T)-3:\n",
    "            P0.append(i)\n",
    "    P1_2 = P1 + P2\n",
    "\n",
    "    # Creation de R1_2\n",
    "    R1_2 = []\n",
    "    for p in P1_2:\n",
    "        triplet = (T[p], T[p+1], T[p+2])\n",
    "        R1_2.append(triplet)\n",
    "\n",
    "    # Tri de R1_2 avec les positions\n",
    "    R1_2_with_p = list(zip(R1_2, P1_2))\n",
    "    R1_2_sorted = sorted(R1_2_with_p)\n",
    "    #print(\"R1_2_sorted\",R1_2_sorted)\n",
    "    # Creation de Index1_2 et Order1_2\n",
    "    rank = 0\n",
    "    prev_triplet = None\n",
    "    p_to_rank = {}\n",
    "    order_list = []\n",
    "    for triplet, p in R1_2_sorted:\n",
    "        if triplet != prev_triplet:\n",
    "            rank += 1\n",
    "        p_to_rank[p] = rank\n",
    "        prev_triplet = triplet\n",
    "        order_list.append(rank)\n",
    "    Index1_2 = [p for (triplet, p) in R1_2_sorted]\n",
    "    Order1_2 = order_list\n",
    "\n",
    "    # Création de T'\n",
    "    T_prime = []\n",
    "    for p in P1_2:\n",
    "        T_prime.append(p_to_rank[p])\n",
    "\n",
    "    # Vérification des duplicatas dans Order1_2 pour décider de la récursivité\n",
    "    if len(set(Order1_2)) < len(Order1_2):  # Il y a des duplicatas\n",
    "        #print('rec')\n",
    "        Index_prime0_1_2 = dc3_quasi_final(T_prime)  # Récursion\n",
    "        Index1_2 = [P1_2[i] for i in Index_prime0_1_2]\n",
    "    \n",
    "    # Étape 2 : Calcul de R0\n",
    "    R0 = []\n",
    "    for p in P0:\n",
    "        pair = (T[p], p_to_rank.get(p+1))\n",
    "        R0.append(pair)\n",
    "        \n",
    "    # Tri de R0\n",
    "    R0_with_p = list(zip(R0, P0))\n",
    "    R0_sorted = sorted(R0_with_p)\n",
    "    Index0 = [p for (pair, p) in R0_sorted]\n",
    "\n",
    "    # Étape 3 : Fusion de Index0 et Index1_2 pour obtenir le suffix array final\n",
    "    \n",
    "    def firstin(l,a,b):#######################################################################j'espère que je ne suis pas en train d'augmenter la complexité !\n",
    "        for i in range(len(l)):\n",
    "            if l[i][1]==a:\n",
    "                return (1,0),a\n",
    "            if l[i][1]==b:\n",
    "                return (0,1),b\n",
    "        print(\"ERREUR\",a,b,l)\n",
    "        return\n",
    "    \n",
    "    SA = []\n",
    "    i = 0\n",
    "    j = 0\n",
    "    while i < len(Index0) and j < len(Index1_2):\n",
    "        a = Index0[i]\n",
    "        b = Index1_2[j]\n",
    "        if T[a] < T[b] :\n",
    "            SA.append(a)\n",
    "            i += 1\n",
    "        elif T[a] > T[b]:\n",
    "            SA.append(b)\n",
    "            j += 1\n",
    "        else :\n",
    "            if b%3==1:\n",
    "                i_ou_j,a_ou_b=firstin(R1_2_sorted,a+1,b+1)\n",
    "                SA.append(a_ou_b-1)\n",
    "                i+=i_ou_j[0]\n",
    "                j+=i_ou_j[1]\n",
    "            elif b%3==2:\n",
    "                if T[a+1] < T[b+1]:\n",
    "                    SA.append(a)\n",
    "                    i += 1\n",
    "                elif T[a+1] > T[b+1]:\n",
    "                    SA.append(b)\n",
    "                    j += 1\n",
    "                else:\n",
    "                    i_ou_j,a_ou_b=firstin(R1_2_sorted,a+2,b+2)\n",
    "                    SA.append(a_ou_b-2)\n",
    "                    i+=i_ou_j[0]\n",
    "                    j+=i_ou_j[1]\n",
    "        print(a,b,SA)\n",
    "\n",
    "    # Ajout des indices restants\n",
    "    while i < len(Index0):\n",
    "        SA.append(Index0[i])\n",
    "        i += 1\n",
    "        print(\"_0\",SA)\n",
    "    while j < len(Index1_2):\n",
    "        SA.append(Index1_2[j])\n",
    "        j += 1\n",
    "        print(\"1_2\",SA)\n",
    "    # Suppression des indices des sentinelles\n",
    "    SA = [idx for idx in SA if idx < len(T) - 3]\n",
    "    return SA\n",
    "\n",
    "test=\"aaaaaaaaaaaaaaaaaaa\"\n",
    "SA=dc3_quasi_final(test)\n",
    "print(SA,len(SA))\n",
    "naive_suffix_array(test)"
   ]
  },
  {
   "cell_type": "code",
   "execution_count": 29,
   "metadata": {
    "colab": {
     "base_uri": "https://localhost:8080/"
    },
    "id": "p5Dtr694yA0p",
    "outputId": "d12062f1-630e-46d9-ad25-cd4429766150",
    "tags": []
   },
   "outputs": [],
   "source": [
    "###################Verification de DC3\n",
    "\n",
    "def naive_suffix_array(T):\n",
    "    suffixes = [(T[i:], i) for i in range(len(T))]\n",
    "    suffixes.sort()\n",
    "    return [suffix[1] for suffix in suffixes]\n",
    "\n",
    "def compare_suffix_arrays(dc3_result, naive_result):\n",
    "    if dc3_result == naive_result:\n",
    "        print(\"Succès : Les suffix arrays sont identiques !\")\n",
    "        print(\"Résultat DC3 :\", dc3_result)\n",
    "        print(\"Résultat naïf :\", naive_result)\n",
    "    else:\n",
    "        print(\"Erreur : Les suffix arrays sont différents.\")\n",
    "        print(\"Résultat DC3 :\", dc3_result)\n",
    "        print(\"Résultat naïf :\", naive_result)\n",
    "\n",
    "def test_dc3(dc3_bis_bis):\n",
    "    test_strings = [\n",
    "        \"abracadabraabracadabraaaaaaafytdxqubgfshfdddddddddddd\",\n",
    "        \"abaabaaba\",\n",
    "        \"banana\",\n",
    "        \"abracadabra\",\n",
    "        \"abcabcabc\", \n",
    "        \"aaaaaaaaaa\",\n",
    "        \"mississippi\",\n",
    "        \"\",\n",
    "        \"a\",\n",
    "    ]\n",
    "\n",
    "    for i, T in enumerate(test_strings):\n",
    "        print(f\"Test {i+1}: Chaîne '{T}'\")\n",
    "        dc3_result = dc3_bis_bis(T)\n",
    "        naive_result = naive_suffix_array(T)\n",
    "        compare_suffix_arrays(dc3_result, naive_result)\n",
    "        print()\n",
    "\n",
    "#test_dc3(dc3_quasi_final)"
   ]
  },
  {
   "cell_type": "code",
   "execution_count": 25,
   "metadata": {
    "tags": []
   },
   "outputs": [],
   "source": [
    "def DC3_internet(x : list[int], asize : int) -> list[int]:\n",
    "    if not x :\n",
    "        return []\n",
    "    if type(x[0]) == str:\n",
    "        x = [ord(y) for y in x]\n",
    "        asize = 256\n",
    "    SA12 = [i for i in range(len(x)) if i % 3 != 0]\n",
    "    \n",
    "    SA12 = radix3(x, asize, SA12)\n",
    "    new_alpha = collect_alphabet(x, SA12)\n",
    "    if len(new_alpha) < len(SA12):\n",
    "        # Recursively sort SA12.\n",
    "        # Construct the u string and compute its suffix array\n",
    "        u = build_u(x, new_alpha)\n",
    "        # For the recursion, remember that the real alphabet has\n",
    "        # two sentinels, so + 2\n",
    "        sa_u = DC3_internet(u, len(new_alpha) + 2)\n",
    "        # Then map u's suffix array back to a sorted SA12\n",
    "        m = len(sa_u) // 2\n",
    "        SA12 = [u_idx(i, m) for i in sa_u if i != m]\n",
    "\n",
    "    # Special case if the last index is class 0. Then the\n",
    "    # following class 1 isn't there, but we should treat it\n",
    "    # as the smallest string in the class.\n",
    "    SA3 = ([len(x) - 1] if len(x) % 3 == 1 else []) + \\\n",
    "          [i - 1 for i in SA12 if i % 3 == 1]\n",
    "    SA3 = bucket_sort(x, asize, SA3)\n",
    "    return merge(x, SA12, SA3)\n",
    "\n",
    "def safe_idx(x : list[int], i : int) -> int:\n",
    "    \"Hack to get zero if we index beyond the end.\"\n",
    "    return 0 if i >= len(x) else x[i]\n",
    "\n",
    "def symbcount(x : list[int], asize : int) -> list[int]:\n",
    "    \"Count how often we see each character in the alphabet.\"\n",
    "    # This is what collections.Counter does, but we need the\n",
    "    # alphabet to be sorted integers, so we do it manually.\n",
    "    counts = [0] * asize\n",
    "    for c in x:\n",
    "        counts[c] += 1\n",
    "    return counts\n",
    "\n",
    "def cumsum(counts : list[int]) -> list[int]:\n",
    "    \"Compute the cumulative sum from the character count.\"\n",
    "    res, acc = [0] * len(counts), 0\n",
    "    for i, k in enumerate(counts):\n",
    "        res[i] = acc\n",
    "        acc += k\n",
    "    return res\n",
    "\n",
    "def bucket_sort(x : list[int], asize : int,\n",
    "                idx : list[int], offset : int = 0) -> list[int]:\n",
    "    \"Sort indices in idx according to x[i + offset].\"\n",
    "    sort_symbs = [safe_idx(x, i + offset) for i in idx]\n",
    "    counts = symbcount(sort_symbs, asize)\n",
    "    buckets = cumsum(counts)\n",
    "    out = [None] * len(idx)\n",
    "    for i in idx:\n",
    "        bucket = safe_idx(x, i + offset)\n",
    "        out[buckets[bucket]] = i\n",
    "        buckets[bucket] += 1\n",
    "    return out\n",
    "\n",
    "def radix3(x : list[int], asize : int, idx : list[int]) -> list[int]:\n",
    "    \"Sort indices in idx according to their first three letters in x.\"\n",
    "    idx = bucket_sort(x, asize, idx, 2)\n",
    "    idx = bucket_sort(x, asize, idx, 1)\n",
    "    return bucket_sort(x, asize, idx)\n",
    "\n",
    "TRIPLET = tuple[int,int,int]\n",
    "TRIPLET_DICT = dict[TRIPLET,int]\n",
    "\n",
    "def triplet(x : list[int], i : int) -> TRIPLET:\n",
    "    \"Extract the triplet (x[i],x[i+1],x[i+2]).\"\n",
    "    return (safe_idx(x, i), safe_idx(x, i + 1), safe_idx(x, i + 2))\n",
    "\n",
    "def collect_alphabet(x : list[int], idx : list[int]) -> TRIPLET_DICT:\n",
    "    \"Map the triplets starting at idx to a new alphabet.\"\n",
    "    # I use 0 for the terminal sentinel and 1 for the \n",
    "    # separator, so I start the alphabet at 2, thus the + 2 later.\n",
    "    # I'm using a dictionary for the alphabet, but you can build\n",
    "    # it more efficiently by looking at the previous triplet in the\n",
    "    # sorted SA12. It won't affect the asymptotic running time,\n",
    "    # though.\n",
    "    alpha = {}\n",
    "    for i in idx:\n",
    "        trip = triplet(x, i)\n",
    "        if trip not in alpha:\n",
    "            alpha[trip] = len(alpha) + 2 # +2 to reserve sentinels\n",
    "    return alpha\n",
    "\n",
    "def build_u(x : list[int], alpha : TRIPLET_DICT) -> list[int]:\n",
    "    \"Construct u string, using 1 as central sentinel.\"\n",
    "    # By putting the i % 3 == 1 indices first, we know that the central\n",
    "    # sentinel will always be at len(u) // 2.\n",
    "    return [ *(alpha[triplet(x, i)] for i in range(1, len(x), 3)),\n",
    "           1,\n",
    "             *(alpha[triplet(x, i)] for i in range(2, len(x), 3)) ]\n",
    "\n",
    "def u_idx(i : int, m : int) -> int:\n",
    "    \"Map indices in u back to indices in the original string.\"\n",
    "    if i < m: return 1 + 3 * i\n",
    "    else: return 2 + 3 * (i - m - 1)\n",
    "\n",
    "def merge(x : list[int], SA12 : list[int], SA3 : list[int]) -> list[int]:\n",
    "    \"Merge the suffixes in sorted SA12 and SA3.\"\n",
    "    # I'm using a dict here, but you can use a list with a little\n",
    "    # arithmetic\n",
    "    ISA = { SA12[i]: i for i in range(len(SA12)) }\n",
    "    SA = []\n",
    "    i, j = 0, 0\n",
    "    while i < len(SA12) and j < len(SA3):\n",
    "        if less(x, SA12[i], SA3[j], ISA):\n",
    "            SA.append(SA12[i])\n",
    "            i += 1\n",
    "        else:\n",
    "            SA.append(SA3[j])\n",
    "            j += 1\n",
    "    SA.extend(SA12[i:])\n",
    "    SA.extend(SA3[j:])\n",
    "    return SA\n",
    "\n",
    "def less(x : list[int], i : int, j : int, ISA : dict[int,int]) -> bool:\n",
    "    \"Check if x[i:] < x[j:] using the inverse suffix array for SA12.\"\n",
    "    a, b = safe_idx(x, i), safe_idx(x, j)\n",
    "    if a < b: return True\n",
    "    if a > b: return False\n",
    "    if i % 3 != 0 and j % 3 != 0: return ISA[i] < ISA[j]\n",
    "    return less(x, i + 1, j + 1, ISA)"
   ]
  },
  {
   "cell_type": "code",
   "execution_count": 26,
   "metadata": {
    "tags": []
   },
   "outputs": [],
   "source": [
    "SA=DC3_internet(genome,1000)"
   ]
  },
  {
   "cell_type": "code",
   "execution_count": 27,
   "metadata": {
    "tags": []
   },
   "outputs": [
    {
     "name": "stdout",
     "output_type": "stream",
     "text": [
      "[174571, 178118, 397728, 613032, 346794, 313120, 170534, 243148, 242835, 307343, 513411, 343771, 537995, 192442, 103729, 174572, 178119, 121149, 166895, 397729, 90604, 144293, 613033, 141886, 242198, 244339, 598852, 346795, 527533, 313121, 170535, 208255, 437753, 194455, 71810, 515716, 470523, 535107, 255424, 527687, 437035, 243149, 242836, 307344, 409697, 118615, 104965, 444426, 309001, 437007, 361143, 178718, 617296, 375523, 143490, 246544, 93097, 95218, 312502, 588175, 27134, 401025, 98885, 513412, 343772, 531407, 230657, 537996, 178451, 167810, 277171, 570929, 330833, 192443, 382947, 103730, 464972, 6466, 5777, 50917, 331169, 132159, 276764, 513285, 92559, 164519, 529218, 283589, 188591, 174573, 178120, 121150, 78483, 51458, 166896, 397730, 90605, 144294, 592483, 461896]\n"
     ]
    }
   ],
   "source": [
    "print(SA[:100])"
   ]
  },
  {
   "cell_type": "code",
   "execution_count": 28,
   "metadata": {
    "id": "rXxiIugH-Qj2",
    "tags": []
   },
   "outputs": [],
   "source": [
    "def query_kmers(pattern,T,k):\n",
    "    kmers_dict = index_kmers(pattern,k)\n",
    "    res = {}\n",
    "    for kmer,index in kmers_dict.items():\n",
    "        offset = pattern_matching_BWT(T,kmer)\n",
    "        if offset:\n",
    "            print(offset)\n",
    "            res[kmer] = offset\n",
    "        else:\n",
    "            res[kmer] = None\n",
    "    return res"
   ]
  },
  {
   "cell_type": "code",
   "execution_count": 29,
   "metadata": {
    "id": "1YiOBs9a-PcT"
   },
   "outputs": [
    {
     "name": "stdout",
     "output_type": "stream",
     "text": [
      "[322, 329]\n",
      "[323, 330]\n",
      "[324, 331]\n",
      "[325, 332]\n",
      "[326, 333]\n",
      "[327, 334]\n",
      "[328, 335]\n"
     ]
    },
    {
     "data": {
      "text/plain": [
       "{'AACCT': [322, 329],\n",
       " 'ACCTA': [323, 330],\n",
       " 'CCTAA': [324, 331],\n",
       " 'CTAAA': [325, 332],\n",
       " 'TAAAA': [326, 333],\n",
       " 'AAAAC': [327, 334],\n",
       " 'AAACC': [328, 335]}"
      ]
     },
     "execution_count": 29,
     "metadata": {},
     "output_type": "execute_result"
    }
   ],
   "source": [
    "g enome = \"TGAACCCTaaaacctaaaccctaaaccctaaaccctgaaccctaaaccctgaaccctaaaccctaaaccctgaaccctaaaccctaaaccctgaaccctaaaccctgaaacctaaaccctgaaccctaaaccctgaaccctgaaccctaaccctaaaccctaaacctaaaaccctgaaccctaaaccctgaaccctgaaccctaaaccctgaaccctaaaccctaaaccctgaaccctaaaccctgaaccctaaaccctaaaccctgaaccctgaaccctaaaacctaaaccctaaaccctaaaccctaaaccctgaacctaAACCTAAAACCTAAAACCtaaaaccctgaacccttacttttcatttcttcttcttatcttcttacttttcattcttta\"\n",
    "pattern = \"AACCTAAAACCTAAAACC\"\n",
    "query_kmers(pattern,genome,5)"
   ]
  },
  {
   "cell_type": "code",
   "execution_count": 30,
   "metadata": {
    "colab": {
     "base_uri": "https://localhost:8080/",
     "height": 106
    },
    "id": "ckFGalKyals_",
    "outputId": "75ea1823-681a-49dd-9f11-10e2f541c91c"
   },
   "outputs": [
    {
     "ename": "IndentationError",
     "evalue": "unexpected indent (2947314226.py, line 5)",
     "output_type": "error",
     "traceback": [
      "\u001B[0;36m  Cell \u001B[0;32mIn[30], line 5\u001B[0;36m\u001B[0m\n\u001B[0;31m    for read in bam_file:\u001B[0m\n\u001B[0m    ^\u001B[0m\n\u001B[0;31mIndentationError\u001B[0m\u001B[0;31m:\u001B[0m unexpected indent\n"
     ]
    }
   ],
   "source": [
    "# Importer le fichier BAM\n",
    "def read_fichier_BAM():\n",
    "  bam_dict = {}\n",
    "  bam_file = pysam.AlignmentFile(bam_path, \"rb\")\n",
    "    for read in bam_file:\n",
    "        read_name= read.query_name\n",
    "        read_seq = read.query_sequence\n",
    "        read_position = read.reference_start\n",
    "        read_quality = read.mapping_quality\n",
    "        read_is_reverse = read.is_reverse\n",
    "        bam_info[read_name] = {\"sequence\": read_seq,\n",
    "                               \"position\": read_position,\n",
    "                               \"quality\": read_quality,\n",
    "                               \"reversed_strand\":read_is_reverse}\n",
    "    bam_file.close()\n",
    "    return bam_dict"
   ]
  },
  {
   "cell_type": "code",
   "execution_count": null,
   "metadata": {
    "id": "fqAgXF-9arqZ"
   },
   "outputs": [],
   "source": [
    "def main(genome,reads,erreur_max = 2,output_file = \"./tmp/reads.txt\"):\n",
    "    \"\"\"\n",
    "    realize the read for each sequence to each chromosome of the genome\n",
    "    :param genome (list): lists of chromosomes\n",
    "    :param reads (list): list of reads\n",
    "    :erreur_max (int): number maximum of error\n",
    "    :output_file (string): output path\n",
    "    :return: liste des listes de positions exactes trouvées\n",
    "    \"\"\"\n",
    "    file = open(output_file, \"w\")\n",
    "    results= []\n",
    "    for i_chromosome,chromosome in enumerate(genome):\n",
    "        \n",
    "        SA = DC3(chromosome,256)\n",
    "        L = BWT_suffix_table(chromosome)\n",
    "        ##### il faut ajouter aussi la fonction pour inverser le reads\n",
    "        print(f\"Dans la chromosome {i_chromosome+1} :\")\n",
    "\n",
    "        for read in reads:\n",
    "            reverse_read = reverse_complement(str(read))\n",
    "            print(\"\\t straight strand\")\n",
    "            fit_straight=analyse_results(chromosome,str(read),query_kmers(str(read),SA,L,5),erreur_max) \n",
    "            if len(fit_straight)>0:\n",
    "                file.write(str(read)+\",\"+str(i_chromosome)+\",\"+\",\".join(map(str,fit_straight))+\",\"+\"0\"+\"\\n\")\n",
    "            results.append(fit_straight)\n",
    "            print(\"\\t reversed strand\")\n",
    "            fit_reversed=analyse_results(chromosome,reverse_read,query_kmers(reverse_read,SA,L,5),erreur_max)   \n",
    "            if len(fit_reversed)>0:\n",
    "                file.write(reverse_read+\",\"+str(i_chromosome)+\",\"+\",\".join(map(str,fit_reversed))+\",\"+\"0\"+\"\\n\")\n",
    "            results.append(fit_reversed)\n",
    "        print(\"_________________\")\n",
    "    file.close()\n",
    "    print(\"#########finished searching##########\")\n",
    "    return results"
   ]
  },
  {
   "metadata": {},
   "cell_type": "code",
   "outputs": [],
   "execution_count": null,
   "source": [
    "def analyse_results(genome, pattern,kmers_res,max_erreurs=2):\n",
    "    \"\"\"\n",
    "    analyse the results of the mapping of kmers to a genome\n",
    "    :param genome (str): genome from a chromosome \n",
    "    :param pattern (str): pattern/read \n",
    "    :param kmers_res: result of query_kmers\n",
    "    :param max_erreurs (int): (default 2) maximum number of erreurs \n",
    "    :return: list of positions that found the pattern (complete) in genome\n",
    "    \"\"\"\n",
    "    kmers,all_positions = kmers_res\n",
    "    fit = []\n",
    "    variations = []\n",
    "    k = len(kmers[0])\n",
    "    for current_kmer,position in enumerate(all_positions):\n",
    "        for pos in position:\n",
    "            aligment = [pos]\n",
    "            for next_kmer, next_position in enumerate(all_positions,start=current_kmer):\n",
    "                expected_pos = pos + next_kmer - current_kmer\n",
    "                if expected_pos in next_position:\n",
    "                    if expected_pos not in aligment:\n",
    "                        aligment.append(expected_pos)\n",
    "            if len(aligment) == len(all_positions):\n",
    "                fit.append(aligment[0])\n",
    "            else: \n",
    "                if len(aligment) > 1:\n",
    "                    start_i_genome = aligment[0] - current_kmer\n",
    "                    end_i_genome = start_i_genome + len(pattern)\n",
    "                    \n",
    "                    if start_i_genome >= 0 and end_i_genome <= len(genome):\n",
    "                        genome_subseq = genome[start_i_genome:end_i_genome]\n",
    "                        erreurs = hamming_distance(genome_subseq,pattern)\n",
    "                        if erreurs <= max_erreurs:\n",
    "                            if start_i_genome not in variations:\n",
    "                                variations.append(start_i_genome)\n",
    "    variations = list(set(fit)-set(variations))\n",
    "    if len(fit)>=1:\n",
    "        print(f\"La séquence trouvée dans le génome avec {len(fit)} occurences\")\n",
    "        print(f\"Les positions trouvées sont : {fit}\")\n",
    "    else:\n",
    "        print(\"aucune séquence exacte trouvée dans le génome\")\n",
    "    if len(variations)>=1:\n",
    "        print(f\"trouvées les séquences variés dont {max_erreurs} d'erreurs max avec {len(variations)} occurences\")\n",
    "        print(f\"Les positions trouvées sont : {variations}\")\n",
    "\n",
    "    return fit"
   ]
  },
  {
   "metadata": {},
   "cell_type": "code",
   "outputs": [],
   "execution_count": null,
   "source": [
    "def hamming_distance(seq1, seq2):\n",
    "    \"\"\"\n",
    "    calculate the hamming distance between two strings\n",
    "    :param seq1 (str):\n",
    "    :param seq2 (str): \n",
    "    :return: \n",
    "    \"\"\"\n",
    "    return sum(1 for a, b in zip(seq1, seq2) if a != b)"
   ]
  }
 ],
 "metadata": {
  "colab": {
   "provenance": []
  },
  "kernelspec": {
   "display_name": "Python 3 (ipykernel)",
   "language": "python",
   "name": "python3"
  },
  "language_info": {
   "codemirror_mode": {
    "name": "ipython",
    "version": 3
   },
   "file_extension": ".py",
   "mimetype": "text/x-python",
   "name": "python",
   "nbconvert_exporter": "python",
   "pygments_lexer": "ipython3",
   "version": "3.11.5"
  }
 },
 "nbformat": 4,
 "nbformat_minor": 4
}
